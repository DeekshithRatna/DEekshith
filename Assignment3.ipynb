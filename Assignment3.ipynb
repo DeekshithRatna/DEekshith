{
 "cells": [
  {
   "cell_type": "code",
   "execution_count": null,
   "id": "ec242089",
   "metadata": {},
   "outputs": [],
   "source": [
    "\n",
    "#Assignment 3 - Employee and Manager reporting\n",
    "\n",
    "SELECT DISTINCT e1.manager_id, e1.employee_id\n",
    "FROM Employees e1\n",
    "JOIN Employees e2 ON e1.manager_id = e2.employee_id\n",
    "JOIN Employees e3 ON e2.manager_id = e3.employee_id\n",
    "JOIN Employees e4 ON e3.manager_id = e4.employee_id\n",
    "WHERE e1.employee_id <> 1\n",
    "AND (e1.manager_id = 1 OR e2.manager_id = 1 OR e3.manager_id = 1 OR e4.manager_id = 1);\n",
    "\n"
   ]
  },
  {
   "cell_type": "code",
   "execution_count": null,
   "id": "189f76b8",
   "metadata": {},
   "outputs": [],
   "source": []
  },
  {
   "cell_type": "code",
   "execution_count": null,
   "id": "0213eb45",
   "metadata": {},
   "outputs": [],
   "source": []
  }
 ],
 "metadata": {
  "kernelspec": {
   "display_name": "Python 3 (ipykernel)",
   "language": "python",
   "name": "python3"
  },
  "language_info": {
   "codemirror_mode": {
    "name": "ipython",
    "version": 3
   },
   "file_extension": ".py",
   "mimetype": "text/x-python",
   "name": "python",
   "nbconvert_exporter": "python",
   "pygments_lexer": "ipython3",
   "version": "3.9.13"
  }
 },
 "nbformat": 4,
 "nbformat_minor": 5
}
