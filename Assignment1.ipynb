{
 "cells": [
  {
   "cell_type": "code",
   "execution_count": 2,
   "id": "d6d9811d",
   "metadata": {},
   "outputs": [
    {
     "name": "stdout",
     "output_type": "stream",
     "text": [
      "['RohithSharma', 'SuryaKumar', 'IshanKishan', 'TilakVarma']\n"
     ]
    }
   ],
   "source": [
    "#Assignment 1 - Append 2 lists in python\n",
    "\n",
    "l1=[\"Rohith\",\"Surya\",\"Ishan\",\"Tilak\"]\n",
    "l2=[\"Sharma\",\"Kumar\",\"Kishan\",\"Varma\"]\n",
    "l3=[]\n",
    "for i in range(len(l1)):\n",
    "    l3.append(l1[i]+l2[i])\n",
    "print(l3)\n"
   ]
  },
  {
   "cell_type": "code",
   "execution_count": null,
   "id": "372d4eef",
   "metadata": {},
   "outputs": [],
   "source": []
  }
 ],
 "metadata": {
  "kernelspec": {
   "display_name": "Python 3 (ipykernel)",
   "language": "python",
   "name": "python3"
  },
  "language_info": {
   "codemirror_mode": {
    "name": "ipython",
    "version": 3
   },
   "file_extension": ".py",
   "mimetype": "text/x-python",
   "name": "python",
   "nbconvert_exporter": "python",
   "pygments_lexer": "ipython3",
   "version": "3.9.13"
  }
 },
 "nbformat": 4,
 "nbformat_minor": 5
}
