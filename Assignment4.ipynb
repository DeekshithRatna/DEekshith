{
 "cells": [
  {
   "cell_type": "code",
   "execution_count": null,
   "id": "3c4f1c4f",
   "metadata": {},
   "outputs": [],
   "source": [
    "\n",
    "#Assignment 4 - Date difference between months\n",
    "\n",
    "SELECT *, DATEDIFF(MONTH, MIN(order_date) OVER (PARTITION BY cust_id), order_date) AS months_difference FROM cust\n",
    "\n",
    "Assignment 5 - Consecutive two week gap between Products\n",
    "\n",
    "Select p. product_id,p.product_name,p.product_category from product p where p.product_id NOT IN(select s.product_id from sales s where exists( select 1 from sales s1 where s.pro\n",
    "duct_id=s1.product_id and DATEDIFF(s1.T_date,s.T_date)=14));\n",
    "\n"
   ]
  },
  {
   "cell_type": "code",
   "execution_count": null,
   "id": "cce6dc5e",
   "metadata": {},
   "outputs": [],
   "source": []
  },
  {
   "cell_type": "code",
   "execution_count": null,
   "id": "b5ed75d4",
   "metadata": {},
   "outputs": [],
   "source": []
  }
 ],
 "metadata": {
  "kernelspec": {
   "display_name": "Python 3 (ipykernel)",
   "language": "python",
   "name": "python3"
  },
  "language_info": {
   "codemirror_mode": {
    "name": "ipython",
    "version": 3
   },
   "file_extension": ".py",
   "mimetype": "text/x-python",
   "name": "python",
   "nbconvert_exporter": "python",
   "pygments_lexer": "ipython3",
   "version": "3.9.13"
  }
 },
 "nbformat": 4,
 "nbformat_minor": 5
}
